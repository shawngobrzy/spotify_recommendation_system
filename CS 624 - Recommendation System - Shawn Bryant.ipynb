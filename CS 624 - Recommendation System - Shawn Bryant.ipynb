{
  "nbformat": 4,
  "nbformat_minor": 0,
  "metadata": {
    "colab": {
      "provenance": [],
      "authorship_tag": "ABX9TyOYyEL9hdtVxKy2PQdRg2rg",
      "include_colab_link": true
    },
    "kernelspec": {
      "name": "python3",
      "display_name": "Python 3"
    },
    "language_info": {
      "name": "python"
    }
  },
  "cells": [
    {
      "cell_type": "markdown",
      "metadata": {
        "id": "view-in-github",
        "colab_type": "text"
      },
      "source": [
        "<a href=\"https://colab.research.google.com/github/shawngobrzy/spotify_recommendation_system/blob/main/CS%20624%20-%20Recommendation%20System%20-%20Shawn%20Bryant.ipynb\" target=\"_parent\"><img src=\"https://colab.research.google.com/assets/colab-badge.svg\" alt=\"Open In Colab\"/></a>"
      ]
    },
    {
      "cell_type": "code",
      "execution_count": 1,
      "metadata": {
        "id": "4CCjlhjJ6KLh",
        "outputId": "ace52ae3-29e1-4267-eef5-8ded456dc13c",
        "colab": {
          "base_uri": "https://localhost:8080/"
        }
      },
      "outputs": [
        {
          "output_type": "stream",
          "name": "stdout",
          "text": [
            "Requirement already satisfied: pyspark in /usr/local/lib/python3.11/dist-packages (3.5.5)\n",
            "Requirement already satisfied: py4j==0.10.9.7 in /usr/local/lib/python3.11/dist-packages (from pyspark) (0.10.9.7)\n"
          ]
        }
      ],
      "source": [
        "!pip install pyspark"
      ]
    },
    {
      "cell_type": "code",
      "source": [
        "from google.colab import drive\n",
        "drive.mount('/content/gdrive')\n",
        "\n",
        "file = r'/content/gdrive/My Drive/spotify_songs.csv'"
      ],
      "metadata": {
        "id": "WtdH0lklCrwa",
        "outputId": "c3688126-fa49-42ed-9ad5-df4e63d0e2ea",
        "colab": {
          "base_uri": "https://localhost:8080/"
        }
      },
      "execution_count": 2,
      "outputs": [
        {
          "output_type": "stream",
          "name": "stdout",
          "text": [
            "Mounted at /content/gdrive\n"
          ]
        }
      ]
    },
    {
      "cell_type": "code",
      "source": [
        "from pyspark.sql import SparkSession\n",
        "from pyspark.sql.functions import col, sum\n",
        "from pyspark.ml.feature import StandardScaler, VectorAssembler\n",
        "from pyspark.ml.evaluation import MulticlassClassificationEvaluator\n",
        "from pyspark.ml.classification import RandomForestClassifier"
      ],
      "metadata": {
        "id": "Vn0rXnMr6ur_"
      },
      "execution_count": 3,
      "outputs": []
    },
    {
      "cell_type": "markdown",
      "source": [
        "#Load the Dataset"
      ],
      "metadata": {
        "id": "6_R16Nen1Bk5"
      }
    },
    {
      "cell_type": "code",
      "source": [
        "spark = SparkSession.builder.getOrCreate()\n",
        "df = spark.read.csv(file, header=True, inferSchema=True, sep=',')\n",
        "df.show()"
      ],
      "metadata": {
        "id": "Uuh98NWg7imf",
        "outputId": "9442dbc9-831f-4135-eaca-676709987c85",
        "colab": {
          "base_uri": "https://localhost:8080/"
        }
      },
      "execution_count": 4,
      "outputs": [
        {
          "output_type": "stream",
          "name": "stdout",
          "text": [
            "+--------------------+--------------------+----------------+----------------+--------------------+--------------------+------------------------+-------------+--------------------+--------------+-----------------+------------+------+---+--------+----+-----------+------------+----------------+--------+-------+-------+-----------+\n",
            "|            track_id|          track_name|    track_artist|track_popularity|      track_album_id|    track_album_name|track_album_release_date|playlist_name|         playlist_id|playlist_genre|playlist_subgenre|danceability|energy|key|loudness|mode|speechiness|acousticness|instrumentalness|liveness|valence|  tempo|duration_ms|\n",
            "+--------------------+--------------------+----------------+----------------+--------------------+--------------------+------------------------+-------------+--------------------+--------------+-----------------+------------+------+---+--------+----+-----------+------------+----------------+--------+-------+-------+-----------+\n",
            "|6f807x0ima9a1j3VP...|I Don't Care (wit...|      Ed Sheeran|              66|2oCs0DGTsRO98Gh5Z...|I Don't Care (wit...|              2019-06-14|    Pop Remix|37i9dQZF1DXcZDD7c...|           pop|        dance pop|       0.748| 0.916|  6|  -2.634|   1|     0.0583|       0.102|             0.0|  0.0653|  0.518|122.036|   194754.0|\n",
            "|0r7CVbZTWZgbTCYdf...|Memories - Dillon...|        Maroon 5|              67|63rPSO264uRjW1X5E...|Memories (Dillon ...|              2019-12-13|    Pop Remix|37i9dQZF1DXcZDD7c...|           pop|        dance pop|       0.726| 0.815| 11|  -4.969|   1|     0.0373|      0.0724|         0.00421|   0.357|  0.693| 99.972|   162600.0|\n",
            "|1z1Hg7Vb0AhHDiEmn...|All the Time - Do...|    Zara Larsson|              70|1HoSmj2eLcsrR0vE9...|All the Time (Don...|              2019-07-05|    Pop Remix|37i9dQZF1DXcZDD7c...|           pop|        dance pop|       0.675| 0.931|  1|  -3.432|   0|     0.0742|      0.0794|         2.33E-5|    0.11|  0.613|124.008|   176616.0|\n",
            "|75FpbthrwQmzHlBJL...|Call You Mine - K...|The Chainsmokers|              60|1nqYsOef1yKKuGOVc...|Call You Mine - T...|              2019-07-19|    Pop Remix|37i9dQZF1DXcZDD7c...|           pop|        dance pop|       0.718|  0.93|  7|  -3.778|   1|      0.102|      0.0287|         9.43E-6|   0.204|  0.277|121.956|   169093.0|\n",
            "|1e8PAfcKUYoKkxPhr...|Someone You Loved...|   Lewis Capaldi|              69|7m7vv9wlQ4i0LFuJi...|Someone You Loved...|              2019-03-05|    Pop Remix|37i9dQZF1DXcZDD7c...|           pop|        dance pop|        0.65| 0.833|  1|  -4.672|   1|     0.0359|      0.0803|             0.0|  0.0833|  0.725|123.976|   189052.0|\n",
            "|7fvUMiyapMsRRxr07...|Beautiful People ...|      Ed Sheeran|              67|2yiy9cd2QktrNvWC2...|Beautiful People ...|              2019-07-11|    Pop Remix|37i9dQZF1DXcZDD7c...|           pop|        dance pop|       0.675| 0.919|  8|  -5.385|   1|      0.127|      0.0799|             0.0|   0.143|  0.585|124.982|   163049.0|\n",
            "|2OAylPUDDfwRGfe0l...|Never Really Over...|      Katy Perry|              62|7INHYSeusaFlyrHSN...|Never Really Over...|              2019-07-26|    Pop Remix|37i9dQZF1DXcZDD7c...|           pop|        dance pop|       0.449| 0.856|  5|  -4.788|   0|     0.0623|       0.187|             0.0|   0.176|  0.152|112.648|   187675.0|\n",
            "|6b1RNvAcJjQH73eZO...|Post Malone (feat...|       Sam Feldt|              69|6703SRPsLkS4bPtMF...|Post Malone (feat...|              2019-08-29|    Pop Remix|37i9dQZF1DXcZDD7c...|           pop|        dance pop|       0.542| 0.903|  4|  -2.419|   0|     0.0434|      0.0335|         4.83E-6|   0.111|  0.367|127.936|   207619.0|\n",
            "|7bF6tCO3gFb8INrED...|Tough Love - Tiës...|          Avicii|              68|7CvAfGvq4RlIwEbT9...|Tough Love (Tiëst...|              2019-06-14|    Pop Remix|37i9dQZF1DXcZDD7c...|           pop|        dance pop|       0.594| 0.935|  8|  -3.562|   1|     0.0565|      0.0249|         3.97E-6|   0.637|  0.366|127.015|   193187.0|\n",
            "|1IXGILkPm0tOCNeq0...|If I Can't Have Y...|    Shawn Mendes|              67|4QxzbfSsVryEQwvPF...|If I Can't Have Y...|              2019-06-20|    Pop Remix|37i9dQZF1DXcZDD7c...|           pop|        dance pop|       0.642| 0.818|  2|  -4.552|   1|      0.032|      0.0567|             0.0|  0.0919|   0.59|124.957|   253040.0|\n",
            "|3eFJI470ALf1EYjyw...|Cross Me (feat. C...|      Ed Sheeran|              58|49bXZtlI5kQSqQMSC...|Cross Me (feat. C...|              2019-06-21|    Pop Remix|37i9dQZF1DXcZDD7c...|           pop|        dance pop|       0.679| 0.923|  6|    -6.5|   1|      0.181|       0.146|         4.92E-6|   0.124|  0.752|121.984|   207894.0|\n",
            "|3iJeF2izF1QcpCgUc...|Hate Me - R3HAB R...|  Ellie Goulding|              67|6e6RVFWdZaoTiLAZO...|Hate Me (R3HAB Re...|              2019-08-16|    Pop Remix|37i9dQZF1DXcZDD7c...|           pop|        dance pop|       0.437| 0.774|  8|  -4.918|   1|     0.0554|       0.148|             0.0|   0.133|  0.329|123.125|   203733.0|\n",
            "|6e0CvGZf7CouOpYF8...|          Body On My|     Loud Luxury|              67|2R66I0nzp3NnuUlzI...|          Body On My|              2019-03-29|    Pop Remix|37i9dQZF1DXcZDD7c...|           pop|        dance pop|       0.744| 0.726|  1|  -4.675|   1|     0.0463|      0.0399|             0.0|   0.374|  0.687|121.985|   192507.0|\n",
            "|3eLdNmnRWr9gIyBcq...|SOS - Laidback Lu...|          Avicii|              68|7Al4TIo0c5twNLfdO...|SOS (Laidback Luk...|              2019-05-17|    Pop Remix|37i9dQZF1DXcZDD7c...|           pop|        dance pop|       0.572| 0.915|  5|  -4.451|   0|     0.0625|      0.0111|             0.0|   0.339|  0.678|123.919|   164516.0|\n",
            "|55nMnifaQWKe3f9cb...|Summer Days (feat...|   Martin Garrix|              63|2vx3BtBMn8Ed3ygEg...|Summer Days (feat...|              2019-07-12|    Pop Remix|37i9dQZF1DXcZDD7c...|           pop|        dance pop|        0.69|  0.78|  5|  -4.446|   0|     0.0594|     0.00733|         0.00183|  0.0729|  0.238| 126.07|   255238.0|\n",
            "|1EJgymgJHcjSOGSHc...|South of the Bord...|      Ed Sheeran|              66|1imXAvLuowvPYIsFM...|South of the Bord...|              2019-12-11|    Pop Remix|37i9dQZF1DXcZDD7c...|           pop|        dance pop|       0.805| 0.835|  0|  -4.603|   1|     0.0896|        0.13|         5.03E-6|   0.365|  0.722|125.028|   188230.0|\n",
            "|5WaXMQMlQpq8pwIda...|All My Friends - ...|     AJ Mitchell|              60|4lXBBbiEgwTzcfAkq...|All My Friends (E...|              2019-05-03|    Pop Remix|37i9dQZF1DXcZDD7c...|           pop|        dance pop|       0.694| 0.901|  1|  -4.322|   0|     0.0948|      0.0702|             0.0|   0.427|  0.368|118.051|   173548.0|\n",
            "|3TjLsDgL0bTbSQIF6...|Say My Name (feat...|    David Guetta|              65|19z3vpbBT09lZ54ne...|Say My Name (feat...|              2018-12-28|    Pop Remix|37i9dQZF1DXcZDD7c...|           pop|        dance pop|       0.678| 0.747| 10|  -5.289|   0|      0.165|      0.0395|             0.0|   0.174|  0.516|120.002|   189375.0|\n",
            "|0GfS3y8Jd7SHWd9R5...|Dancing With A St...|       Sam Smith|              69|2LDzwN4iZ4qbSA32E...|Dancing With A St...|              2019-03-08|    Pop Remix|37i9dQZF1DXcZDD7c...|           pop|        dance pop|       0.746| 0.557|  1|  -6.722|   1|     0.0542|       0.103|          0.0036|   0.138|  0.324|111.961|   159404.0|\n",
            "|2v3DuCVBbopteJqdM...|Let It Be Me - So...|      Steve Aoki|              35|097kyycr5ZuLS2cPw...|Let It Be Me (Rem...|              2019-10-18|    Pop Remix|37i9dQZF1DXcZDD7c...|           pop|        dance pop|       0.467| 0.821|  7|  -5.466|   1|     0.0934|     0.00791|         4.41E-4|   0.131|  0.232|122.676|   185366.0|\n",
            "+--------------------+--------------------+----------------+----------------+--------------------+--------------------+------------------------+-------------+--------------------+--------------+-----------------+------------+------+---+--------+----+-----------+------------+----------------+--------+-------+-------+-----------+\n",
            "only showing top 20 rows\n",
            "\n"
          ]
        }
      ]
    },
    {
      "cell_type": "markdown",
      "source": [
        "#Check for Missing Values"
      ],
      "metadata": {
        "id": "b3MO7ouw07MM"
      }
    },
    {
      "cell_type": "code",
      "source": [
        "df.select([sum(col(c).isNull().cast('int')).alias(c) for c in df.columns]).show()"
      ],
      "metadata": {
        "id": "HdexRaduGcLz",
        "outputId": "5c01b637-0bba-42a6-d079-9f17ea3361b3",
        "colab": {
          "base_uri": "https://localhost:8080/"
        }
      },
      "execution_count": 5,
      "outputs": [
        {
          "output_type": "stream",
          "name": "stdout",
          "text": [
            "+--------+----------+------------+----------------+--------------+----------------+------------------------+-------------+-----------+--------------+-----------------+------------+------+---+--------+----+-----------+------------+----------------+--------+-------+-----+-----------+\n",
            "|track_id|track_name|track_artist|track_popularity|track_album_id|track_album_name|track_album_release_date|playlist_name|playlist_id|playlist_genre|playlist_subgenre|danceability|energy|key|loudness|mode|speechiness|acousticness|instrumentalness|liveness|valence|tempo|duration_ms|\n",
            "+--------+----------+------------+----------------+--------------+----------------+------------------------+-------------+-----------+--------------+-----------------+------------+------+---+--------+----+-----------+------------+----------------+--------+-------+-----+-----------+\n",
            "|       0|         0|           0|               0|             0|               0|                       0|            0|          0|             0|                0|           0|     0|  0|       0|   0|          0|           0|               0|       0|      0|    0|          0|\n",
            "+--------+----------+------------+----------------+--------------+----------------+------------------------+-------------+-----------+--------------+-----------------+------------+------+---+--------+----+-----------+------------+----------------+--------+-------+-----+-----------+\n",
            "\n"
          ]
        }
      ]
    },
    {
      "cell_type": "code",
      "source": [
        "df = df.drop('track_album_id', 'track_album_name', 'track_album_release_date', 'playlist_name', 'playlist_id', 'playlist_subgenre')"
      ],
      "metadata": {
        "id": "XZo78xbZMzyn"
      },
      "execution_count": 6,
      "outputs": []
    },
    {
      "cell_type": "code",
      "source": [
        "train_df, test_df = df.randomSplit([0.8, 0.2], seed=42)\n",
        "train_df.count(), test_df.count()"
      ],
      "metadata": {
        "id": "aFGqNZAgHSnC",
        "outputId": "f2485696-af46-4a79-ab50-c8ad66875e32",
        "colab": {
          "base_uri": "https://localhost:8080/"
        }
      },
      "execution_count": 7,
      "outputs": [
        {
          "output_type": "execute_result",
          "data": {
            "text/plain": [
              "(26308, 6525)"
            ]
          },
          "metadata": {},
          "execution_count": 7
        }
      ]
    },
    {
      "cell_type": "code",
      "source": [
        "df.select(df.columns[:-1]).describe().show()"
      ],
      "metadata": {
        "colab": {
          "base_uri": "https://localhost:8080/"
        },
        "id": "eCoGjWd1M99I",
        "outputId": "c49cb2a0-6742-48d3-a5de-3d83aec138f3"
      },
      "execution_count": 8,
      "outputs": [
        {
          "output_type": "stream",
          "name": "stdout",
          "text": [
            "+-------+--------------------+--------------------+------------------+------------------+--------------------+-------------------+--------------------+-----------------+------------------+--------------------+-------------------+-------------------+-------------------+-------------------+------------------+------------------+\n",
            "|summary|            track_id|          track_name|      track_artist|  track_popularity|      playlist_genre|       danceability|              energy|              key|          loudness|                mode|        speechiness|       acousticness|   instrumentalness|           liveness|           valence|             tempo|\n",
            "+-------+--------------------+--------------------+------------------+------------------+--------------------+-------------------+--------------------+-----------------+------------------+--------------------+-------------------+-------------------+-------------------+-------------------+------------------+------------------+\n",
            "|  count|               32833|               32833|             32833|             32833|               32833|              32833|               32833|            32833|             32833|               32833|              32833|              32833|              32833|              32833|             32833|             32833|\n",
            "|   mean|                NULL|            Infinity|            1182.5|42.477080985593766|                NULL| 0.6548413911824773|  0.6987159026254852|5.373788742690058|-6.714960343567283|  0.5617789047270955|0.10728242012609311|0.17532551997076137|0.08503226869460623|0.18983626717022573|0.5104382800840634|120.82878928517026|\n",
            "| stddev|                NULL|                 NaN|1994.7120166609927|24.984074486186916|                NULL|0.14508082931503163| 0.18083972636320184|3.612248908638986|2.9918276920539455|   0.539370414665492|0.10228729983665304|0.21964117970063668|  0.228459929884962|0.16638032885544798|0.2332299215566853|26.993193516792292|\n",
            "|    min|0017A6SJgTbfQVU2E...|\"\"\"I TRIED FOR YE...|               !!!|                 0| Matthias Heilbro...|                  0|             0.00814|                0|            -0.046|             -10.425|                0.0|                0.0|                0.0|            -11.062|               0.0|               0.0|\n",
            "|    max|7zzZmpw8L66ZPjH1M...| 하드캐리 Hard Carry|          香取慎吾|               100|                rock| urban contemporary|House/Electro/Pro...|                9|               edm|progressive elect...|                1.0|              0.994|                8.0|              0.996|               1.0|            239.44|\n",
            "+-------+--------------------+--------------------+------------------+------------------+--------------------+-------------------+--------------------+-----------------+------------------+--------------------+-------------------+-------------------+-------------------+-------------------+------------------+------------------+\n",
            "\n"
          ]
        }
      ]
    },
    {
      "cell_type": "code",
      "source": [
        "from pyspark.sql.types import DoubleType\n",
        "\n",
        "for column in ['energy', 'key', 'loudness', 'mode']:\n",
        "    train_df = train_df.withColumn(column, train_df[column].cast(DoubleType()))\n",
        "\n",
        "assembler = VectorAssembler(inputCols=train_df.columns[-11:], outputCol='features')\n",
        "train_vector_df = assembler.transform(train_df)\n",
        "train_vector_df.show(5)"
      ],
      "metadata": {
        "colab": {
          "base_uri": "https://localhost:8080/"
        },
        "id": "9ehdm45cNGQz",
        "outputId": "076c5971-06a7-4a6c-bc6f-c3e0636b8247"
      },
      "execution_count": 9,
      "outputs": [
        {
          "output_type": "stream",
          "name": "stdout",
          "text": [
            "+--------------------+-------------+---------------+----------------+--------------+------------+------+---+--------+----+-----------+------------+----------------+--------+-------+-------+-----------+--------------------+\n",
            "|            track_id|   track_name|   track_artist|track_popularity|playlist_genre|danceability|energy|key|loudness|mode|speechiness|acousticness|instrumentalness|liveness|valence|  tempo|duration_ms|            features|\n",
            "+--------------------+-------------+---------------+----------------+--------------+------------+------+---+--------+----+-----------+------------+----------------+--------+-------+-------+-----------+--------------------+\n",
            "|0017A6SJgTbfQVU2E...|     Pangarap|Barbie's Cradle|              41|          rock|       0.682| 0.401|2.0| -10.068| 1.0|     0.0236|       0.279|          0.0117|  0.0887|  0.566| 97.091|   235440.0|[0.401,2.0,-10.06...|\n",
            "|004s3t0ONYlzxII9P...| I Feel Alive|  Steady Rollin|              28|          rock|       0.303|  0.88|9.0|  -4.739| 1.0|     0.0442|      0.0117|         0.00994|   0.347|  0.404|135.225|   373512.0|[0.88,9.0,-4.739,...|\n",
            "|008rk8F6ZxspZT4bU...|        Fever|    YOSA & TAAR|              38|           pop|       0.662| 0.838|1.0|    -6.3| 1.0|     0.0499|       0.114|         6.97E-4|  0.0881|  0.496|129.884|   236308.0|[0.838,1.0,-6.3,1...|\n",
            "|00EPIEnX1JFjff8sC...|No Me Acuerdo|         Thalía|              12|         latin|       0.836| 0.799|7.0|  -4.247| 0.0|     0.0873|       0.187|             0.0|   0.092|  0.772| 94.033|   217653.0|[0.799,7.0,-4.247...|\n",
            "|00FROhC5g4iJdax5U...|  Satisfy You|          Diddy|              52|           r&b|       0.764| 0.594|6.0|  -10.05| 1.0|      0.185|       0.591|             0.0|   0.145|  0.695| 87.261|   286441.0|[0.594,6.0,-10.05...|\n",
            "+--------------------+-------------+---------------+----------------+--------------+------------+------+---+--------+----+-----------+------------+----------------+--------+-------+-------+-----------+--------------------+\n",
            "only showing top 5 rows\n",
            "\n"
          ]
        }
      ]
    },
    {
      "cell_type": "code",
      "source": [
        "scaler = StandardScaler(inputCol='features', outputCol='scaled_features')\n",
        "scaler_model = scaler.fit(train_vector_df)\n",
        "scaled_df = scaler_model.transform(train_vector_df)\n",
        "scaled_df.select('scaled_features').show(5)"
      ],
      "metadata": {
        "colab": {
          "base_uri": "https://localhost:8080/"
        },
        "id": "wgrlWXSNNKRF",
        "outputId": "208ee41f-de3c-4c1e-ecd8-1e7c546dac25"
      },
      "execution_count": 10,
      "outputs": [
        {
          "output_type": "stream",
          "name": "stdout",
          "text": [
            "+--------------------+\n",
            "|     scaled_features|\n",
            "+--------------------+\n",
            "|[2.21790442526128...|\n",
            "|[4.8672216813714,...|\n",
            "|[4.63492246476049...|\n",
            "|[4.41921604933607...|\n",
            "|[3.28537463492569...|\n",
            "+--------------------+\n",
            "only showing top 5 rows\n",
            "\n"
          ]
        }
      ]
    },
    {
      "cell_type": "code",
      "source": [
        "from pyspark.ml.feature import StringIndexer\n",
        "\n",
        "indexer = StringIndexer(inputCol='playlist_genre', outputCol='playlist_genre_index')\n",
        "\n",
        "indexed_train_df = indexer.fit(scaled_df).transform(scaled_df)\n",
        "indexed_test_df = indexer.fit(test_df).transform(test_df)\n",
        "\n",
        "randomforest = RandomForestClassifier(\n",
        "    seed = 42, featuresCol='scaled_features',\n",
        "    labelCol='playlist_genre_index', impurity=\"entropy\",\n",
        "    numTrees=15)\n",
        "model = randomforest.fit(indexed_train_df)"
      ],
      "metadata": {
        "id": "JMq8Iu07NMs6"
      },
      "execution_count": 18,
      "outputs": []
    },
    {
      "cell_type": "code",
      "source": [
        "for column in ['energy', 'key', 'loudness', 'mode']:\n",
        "    test_df = test_df.withColumn(column, test_df[column].cast(DoubleType()))\n",
        "\n",
        "test_vector_df = assembler.transform(indexed_test_df)\n",
        "scaled_test_df = scaler_model.transform(test_vector_df)\n",
        "scaled_test_df.show(5)"
      ],
      "metadata": {
        "colab": {
          "base_uri": "https://localhost:8080/"
        },
        "id": "ORGov7-YOtu9",
        "outputId": "c4ccf190-c608-426d-f2b2-2d2e3ad9ac3d"
      },
      "execution_count": 22,
      "outputs": [
        {
          "output_type": "stream",
          "name": "stdout",
          "text": [
            "+--------------------+--------------------+------------------+----------------+--------------+------------+------+----+--------+----+-----------+------------+----------------+--------+-------+-------+-----------+--------------------+--------------------+--------------------+\n",
            "|            track_id|          track_name|      track_artist|track_popularity|playlist_genre|danceability|energy| key|loudness|mode|speechiness|acousticness|instrumentalness|liveness|valence|  tempo|duration_ms|playlist_genre_index|            features|     scaled_features|\n",
            "+--------------------+--------------------+------------------+----------------+--------------+------------+------+----+--------+----+-----------+------------+----------------+--------+-------+-------+-----------+--------------------+--------------------+--------------------+\n",
            "|008MceT31RotUANsK...|         Liquid Blue|The.madpix.project|              24|           pop|       0.659| 0.794|10.0|  -5.644| 0.0|      0.054|     7.61E-4|           0.132|   0.322|  0.852|128.041|   228565.0|                 4.0|[0.794,10.0,-5.64...|[4.39156138069192...|\n",
            "|00GfGwzlSB8DoA0cD...|        Tender Lover|          Babyface|              36|           r&b|       0.743|  0.86| 5.0|  -6.346| 1.0|     0.0445|       0.226|         4.22E-4|  0.0513|  0.687|102.459|   259267.0|                 1.0|[0.86,5.0,-6.346,...|[4.75660300679477...|\n",
            "|00HIh9mVUQQAycsQi...|           Limestone|Magic City Hippies|              58|           pop|       0.706| 0.457| 4.0|  -9.359| 1.0|     0.0383|       0.282|         0.00849|  0.0614|  0.723| 78.014|   209165.0|                 4.0|[0.457,4.0,-9.359...|[2.52763671407582...|\n",
            "|00MI0oGDVJYM1qWby...|    867-5309 / Jenny|      Tommy Tutone|              43|          rock|        0.73| 0.785| 2.0|  -7.201| 1.0|     0.0456|      0.0418|         0.00669|   0.123|  0.724|137.639|   231080.0|                 5.0|[0.785,2.0,-7.201...|[4.34178297713244...|\n",
            "|00QyLmjxaSEE8qIZQ...|We Own It (Fast &...|          2 Chainz|              59|           r&b|       0.554| 0.899| 8.0|  -4.573| 1.0|      0.408|      0.0521|             0.0|  0.0568|  0.552|171.966|   227893.0|                 1.0|[0.899,8.0,-4.573...|[4.97230942221919...|\n",
            "+--------------------+--------------------+------------------+----------------+--------------+------------+------+----+--------+----+-----------+------------+----------------+--------+-------+-------+-----------+--------------------+--------------------+--------------------+\n",
            "only showing top 5 rows\n",
            "\n"
          ]
        }
      ]
    },
    {
      "cell_type": "code",
      "source": [
        "reccomendation = model.transform(indexed_train_df)\n",
        "reccomendation.show(5)"
      ],
      "metadata": {
        "colab": {
          "base_uri": "https://localhost:8080/"
        },
        "id": "Dj40YYhFP36K",
        "outputId": "4437a839-8441-4e14-bdb9-74698ba32ed3"
      },
      "execution_count": 23,
      "outputs": [
        {
          "output_type": "stream",
          "name": "stdout",
          "text": [
            "+--------------------+-------------+---------------+----------------+--------------+------------+------+---+--------+----+-----------+------------+----------------+--------+-------+-------+-----------+--------------------+--------------------+--------------------+--------------------+--------------------+----------+\n",
            "|            track_id|   track_name|   track_artist|track_popularity|playlist_genre|danceability|energy|key|loudness|mode|speechiness|acousticness|instrumentalness|liveness|valence|  tempo|duration_ms|            features|     scaled_features|playlist_genre_index|       rawPrediction|         probability|prediction|\n",
            "+--------------------+-------------+---------------+----------------+--------------+------------+------+---+--------+----+-----------+------------+----------------+--------+-------+-------+-----------+--------------------+--------------------+--------------------+--------------------+--------------------+----------+\n",
            "|0017A6SJgTbfQVU2E...|     Pangarap|Barbie's Cradle|              41|          rock|       0.682| 0.401|2.0| -10.068| 1.0|     0.0236|       0.279|          0.0117|  0.0887|  0.566| 97.091|   235440.0|[0.401,2.0,-10.06...|[2.21790442526128...|                 5.0|[0.71294654205575...|[0.04752976947038...|       5.0|\n",
            "|004s3t0ONYlzxII9P...| I Feel Alive|  Steady Rollin|              28|          rock|       0.303|  0.88|9.0|  -4.739| 1.0|     0.0442|      0.0117|         0.00994|   0.347|  0.404|135.225|   373512.0|[0.88,9.0,-4.739,...|[4.8672216813714,...|                 5.0|[4.39598439598519...|[0.29306562639901...|       0.0|\n",
            "|008rk8F6ZxspZT4bU...|        Fever|    YOSA & TAAR|              38|           pop|       0.662| 0.838|1.0|    -6.3| 1.0|     0.0499|       0.114|         6.97E-4|  0.0881|  0.496|129.884|   236308.0|[0.838,1.0,-6.3,1...|[4.63492246476049...|                 2.0|[3.78442891918580...|[0.25229526127905...|       0.0|\n",
            "|00EPIEnX1JFjff8sC...|No Me Acuerdo|         Thalía|              12|         latin|       0.836| 0.799|7.0|  -4.247| 0.0|     0.0873|       0.187|             0.0|   0.092|  0.772| 94.033|   217653.0|[0.799,7.0,-4.247...|[4.41921604933607...|                 4.0|[1.57254313381581...|[0.10483620892105...|       4.0|\n",
            "|00FROhC5g4iJdax5U...|  Satisfy You|          Diddy|              52|           r&b|       0.764| 0.594|6.0|  -10.05| 1.0|      0.185|       0.591|             0.0|   0.145|  0.695| 87.261|   286441.0|[0.594,6.0,-10.05...|[3.28537463492569...|                 3.0|[0.64984179593908...|[0.04332278639593...|       1.0|\n",
            "+--------------------+-------------+---------------+----------------+--------------+------------+------+---+--------+----+-----------+------------+----------------+--------+-------+-------+-----------+--------------------+--------------------+--------------------+--------------------+--------------------+----------+\n",
            "only showing top 5 rows\n",
            "\n"
          ]
        }
      ]
    },
    {
      "cell_type": "code",
      "source": [
        "evaluator = MulticlassClassificationEvaluator(labelCol='playlist_genre_index', predictionCol='prediction')\n",
        "evaluator.evaluate(reccomendation)"
      ],
      "metadata": {
        "colab": {
          "base_uri": "https://localhost:8080/"
        },
        "id": "vXAAshPxQRuS",
        "outputId": "c62ef5e8-b01c-45dc-ba00-bcf4caf94571"
      },
      "execution_count": 24,
      "outputs": [
        {
          "output_type": "execute_result",
          "data": {
            "text/plain": [
              "0.4427586504000738"
            ]
          },
          "metadata": {},
          "execution_count": 24
        }
      ]
    }
  ]
}